{
 "cells": [
  {
   "cell_type": "code",
   "execution_count": 1,
   "metadata": {},
   "outputs": [
    {
     "name": "stdout",
     "output_type": "stream",
     "text": [
      "Hello World!\n"
     ]
    }
   ],
   "source": [
    "print(\"Hello World!\")"
   ]
  },
  {
   "cell_type": "code",
   "execution_count": 2,
   "metadata": {},
   "outputs": [
    {
     "name": "stdout",
     "output_type": "stream",
     "text": [
      "b is greater then a\n"
     ]
    }
   ],
   "source": [
    "a = 5\n",
    "b = 8\n",
    "\n",
    "if a > b:\n",
    "    print(\"a is greater then b\")\n",
    "if b > a:\n",
    "    print(\"b is greater then a\") \n",
    "if a == b:\n",
    "    print(\"a is equal to b\")       "
   ]
  },
  {
   "cell_type": "code",
   "execution_count": 3,
   "metadata": {},
   "outputs": [
    {
     "name": "stdout",
     "output_type": "stream",
     "text": [
      "b is greater than a\n"
     ]
    }
   ],
   "source": [
    "a = 5 \n",
    "b = 8\n",
    "\n",
    "if a > b:\n",
    "    print(\"a is greater then b\")\n",
    "elif b > a:\n",
    "    print(\"b is greater than a\")\n",
    "elif a == b:\n",
    "    print(\"a is equal to b\")        "
   ]
  },
  {
   "cell_type": "code",
   "execution_count": 4,
   "metadata": {},
   "outputs": [
    {
     "name": "stdout",
     "output_type": "stream",
     "text": [
      "6\n"
     ]
    }
   ],
   "source": [
    "print(13%7)"
   ]
  },
  {
   "cell_type": "code",
   "execution_count": 5,
   "metadata": {},
   "outputs": [
    {
     "name": "stdout",
     "output_type": "stream",
     "text": [
      "3\n",
      "1\n",
      "4.5\n",
      "6\n",
      "1\n",
      "3\n",
      "8\n"
     ]
    }
   ],
   "source": [
    "print(2+1)\n",
    "print(3-2)\n",
    "print(9/2)\n",
    "print(2*3)\n",
    "print(13%2)\n",
    "print(6//2)\n",
    "print(2**3)"
   ]
  },
  {
   "attachments": {},
   "cell_type": "markdown",
   "metadata": {},
   "source": [
    "### Strings"
   ]
  },
  {
   "cell_type": "code",
   "execution_count": 6,
   "metadata": {},
   "outputs": [
    {
     "data": {
      "text/plain": [
       "\"''\""
      ]
     },
     "execution_count": 6,
     "metadata": {},
     "output_type": "execute_result"
    }
   ],
   "source": [
    "# strings are always in\n",
    "''\n",
    "\"\"\n",
    "\"''\""
   ]
  },
  {
   "attachments": {},
   "cell_type": "markdown",
   "metadata": {},
   "source": [
    "### Variables"
   ]
  },
  {
   "cell_type": "code",
   "execution_count": 7,
   "metadata": {},
   "outputs": [
    {
     "name": "stdout",
     "output_type": "stream",
     "text": [
      "5\n",
      "we are learning python with me\n",
      "15\n"
     ]
    },
    {
     "data": {
      "text/plain": [
       "int"
      ]
     },
     "execution_count": 7,
     "metadata": {},
     "output_type": "execute_result"
    }
   ],
   "source": [
    "# variables : Objects containing specific values\n",
    "x = 5 # numaric or integer variable\n",
    "print(x)\n",
    "\n",
    "y = \"we are learning python with me\" # string variable\n",
    "print(y)\n",
    "\n",
    "x = x+10 #or x= 15\n",
    "print(x)\n",
    "\n",
    "#class/types of varibles\n",
    "type(x)\n"
   ]
  },
  {
   "attachments": {},
   "cell_type": "markdown",
   "metadata": {},
   "source": [
    "### Input Variables"
   ]
  },
  {
   "cell_type": "code",
   "execution_count": 1,
   "metadata": {},
   "outputs": [
    {
     "name": "stdout",
     "output_type": "stream",
     "text": [
      "\n"
     ]
    }
   ],
   "source": [
    "furit_basket=input(\"what is your best fruit?\")\n",
    "print(furit_basket)\n",
    "\n",
    "# input function of second stage\n",
    "name = input(\"what is your name? \")\n",
    "greetrings=\"hello\"\n",
    "print(greetrings, name)\n",
    "\n",
    "#another way of stage 2 input function\n",
    "name=input(\"what is your name? \")\n",
    "print(\"hello!\", name)\n"
   ]
  },
  {
   "attachments": {},
   "cell_type": "markdown",
   "metadata": {},
   "source": [
    "### Conditional_logics"
   ]
  },
  {
   "cell_type": "code",
   "execution_count": null,
   "metadata": {},
   "outputs": [],
   "source": [
    "\"\"\"equal     ==\n",
    "not_equal !=\n",
    "greater then >\n",
    "less then <\"\"\""
   ]
  },
  {
   "attachments": {},
   "cell_type": "markdown",
   "metadata": {},
   "source": [
    "### type Conversion\n"
   ]
  },
  {
   "cell_type": "code",
   "execution_count": 3,
   "metadata": {},
   "outputs": [
    {
     "name": "stdout",
     "output_type": "stream",
     "text": [
      "<class 'str'>\n"
     ]
    }
   ],
   "source": [
    "x = 10                   #integer\n",
    "y = 10.2                 #float\n",
    "z = \"Hello\"              #string\n",
    "\n",
    "#implicit type conversion\n",
    "print(type(z))\n",
    "x = x+y\n",
    "print(x, \"type of x is:\", type(x))\n",
    "\n",
    "#explicit type conversion\n",
    "age=input(\"what is your age? \")\n",
    "print(age, type(int(age)))"
   ]
  },
  {
   "attachments": {},
   "cell_type": "markdown",
   "metadata": {},
   "source": [
    "### if_else_&elif"
   ]
  },
  {
   "attachments": {},
   "cell_type": "markdown",
   "metadata": {},
   "source": [
    "\n",
    "    if age==5:\n",
    "        print(\"Hammad can join the school\")\n",
    "    elif age>5:\n",
    "        print(\"hammad should go to Higher school\")\n",
    "    elif age>=15:\n",
    "        print(\"Fu*k you, Go to work\")\n",
    "    else:\n",
    "        print(\"hammad is still a baby\")\n",
    "school_calculator(7, \"hammad\")        \n"
   ]
  },
  {
   "attachments": {},
   "cell_type": "markdown",
   "metadata": {},
   "source": [
    "### functions"
   ]
  },
  {
   "cell_type": "code",
   "execution_count": 12,
   "metadata": {},
   "outputs": [
    {
     "name": "stdout",
     "output_type": "stream",
     "text": [
      "how old are you?\n",
      "how old are you?\n",
      "how old are you?\n",
      "how old are you?\n",
      "how old are you?\n",
      "we are learning with codanics\n",
      "we are learning with codanics\n",
      "we are learning with codanics\n",
      "we are learning python with Codanics\n",
      "we are learning python with Codanics\n",
      "hammad should go to Higher school\n"
     ]
    }
   ],
   "source": [
    "print(\"how old are you?\")\n",
    "\n",
    "#defining a functions # 1\n",
    "def print_codanics():\n",
    "    print(\"how old are you?\")\n",
    "    print(\"how old are you?\")\n",
    "    print(\"how old are you?\")\n",
    "    print(\"how old are you?\")\n",
    "print_codanics()    \n",
    "\n",
    "#2 \n",
    "def print_codanics():\n",
    "    text = \"we are learning with codanics\"\n",
    "    print(text)\n",
    "    print(text)\n",
    "    print(text)\n",
    "print_codanics()\n",
    "\n",
    "#3\n",
    "def print_codanics(text):\n",
    "    print(text)\n",
    "    print(text)\n",
    "print_codanics(\"we are learning python with Codanics\")\n",
    "\n",
    "# Defining a function with if, elif and else statements\n",
    "def school_calculator(age, text):\n",
    "    if age==5:\n",
    "        print(\"Hammad can join the school\")\n",
    "    elif age>5:\n",
    "        print(\"hammad should go to Higher school\")\n",
    "    elif age>=15:\n",
    "        print(\"Fu*k you, Go to work\")\n",
    "    else:\n",
    "        print(\"hammad is still a baby\")\n",
    "school_calculator(7, \"hammad\")        \n",
    "\n",
    "    \n",
    "    \n",
    "    \n",
    "        \n",
    "    \n"
   ]
  },
  {
   "cell_type": "code",
   "execution_count": 14,
   "metadata": {},
   "outputs": [
    {
     "name": "stdout",
     "output_type": "stream",
     "text": [
      "30\n"
     ]
    }
   ],
   "source": [
    "# Defining a function of future\n",
    "def future_age(age):\n",
    "    new_age=age+20\n",
    "    return new_age\n",
    "    print(new_age)\n",
    "    \n",
    "future_predicted_age=future_age(10)\n",
    "print(future_predicted_age)"
   ]
  },
  {
   "attachments": {},
   "cell_type": "markdown",
   "metadata": {},
   "source": [
    "### loops"
   ]
  },
  {
   "cell_type": "code",
   "execution_count": 16,
   "metadata": {},
   "outputs": [
    {
     "name": "stdout",
     "output_type": "stream",
     "text": [
      "0\n",
      "1\n",
      "2\n",
      "3\n",
      "4\n",
      "5\n",
      "6\n",
      "7\n",
      "8\n",
      "9\n"
     ]
    }
   ],
   "source": [
    "#while and for loops\n",
    " #1 wile loops\n",
    " \n",
    "x= 0\n",
    "while (x<5):\n",
    "    print(x)\n",
    "    x=x+1\n",
    "    \n",
    "# for loop\n",
    "for x in range(5, 10):\n",
    "    print(x)    "
   ]
  },
  {
   "cell_type": "code",
   "execution_count": 17,
   "metadata": {},
   "outputs": [
    {
     "name": "stdout",
     "output_type": "stream",
     "text": [
      "mon\n",
      "tue\n",
      "thu\n",
      "fri\n",
      "sat\n",
      "sun\n"
     ]
    }
   ],
   "source": [
    "# array\n",
    "days = [\"mon\", \"tue\", \"thu\", \"fri\", \"sat\", \"sun\"]\n",
    "\n",
    "for d in days:\n",
    "    print(d)"
   ]
  },
  {
   "cell_type": "code",
   "execution_count": 19,
   "metadata": {},
   "outputs": [
    {
     "name": "stdout",
     "output_type": "stream",
     "text": [
      "mon\n",
      "tue\n",
      "thu\n"
     ]
    }
   ],
   "source": [
    "# array\n",
    "days = [\"mon\", \"tue\", \"thu\", \"fri\", \"sat\", \"sun\"]\n",
    "\n",
    "for d in days:\n",
    "    if (d==\"fri\"):break # to stop loop\n",
    "    print(d)"
   ]
  },
  {
   "attachments": {},
   "cell_type": "markdown",
   "metadata": {},
   "source": [
    "### import libraries\n"
   ]
  },
  {
   "cell_type": "markdown",
   "metadata": {},
   "source": []
  },
  {
   "attachments": {},
   "cell_type": "markdown",
   "metadata": {},
   "source": [
    "### Trouble_shooting"
   ]
  },
  {
   "attachments": {},
   "cell_type": "markdown",
   "metadata": {},
   "source": []
  }
 ],
 "metadata": {
  "kernelspec": {
   "display_name": "Python 3",
   "language": "python",
   "name": "python3"
  },
  "language_info": {
   "codemirror_mode": {
    "name": "ipython",
    "version": 3
   },
   "file_extension": ".py",
   "mimetype": "text/x-python",
   "name": "python",
   "nbconvert_exporter": "python",
   "pygments_lexer": "ipython3",
   "version": "3.9.4"
  },
  "orig_nbformat": 4,
  "vscode": {
   "interpreter": {
    "hash": "79ceef6378cbab8d02da06dd304c1fe41a97c9b3948fe6d5bc812120050297de"
   }
  }
 },
 "nbformat": 4,
 "nbformat_minor": 2
}
